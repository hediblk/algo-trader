{
 "cells": [
  {
   "cell_type": "markdown",
   "id": "34bc2711",
   "metadata": {},
   "source": [
    "# 2.0 Feature Engineering\n",
    "### work in progress...\n",
    "This notebook demonstrates the creation of features over stock price data. Correlation analysis will be performed to identify relationships between different features. The goal is to create a set of features that can be used for machine learning models to predict stock prices. PCA will be tesed to reduce the dimensionality of the feature set."
   ]
  },
  {
   "cell_type": "code",
   "execution_count": 1,
   "id": "6e4943a7",
   "metadata": {},
   "outputs": [],
   "source": [
    "import sys\n",
    "import os\n",
    "import pandas as pd\n",
    "sys.path.append(os.path.abspath('..'))\n",
    "\n",
    "from src.config import get_config\n",
    "from src.dataset import load_latest_data"
   ]
  },
  {
   "cell_type": "code",
   "execution_count": 2,
   "id": "d3555464",
   "metadata": {},
   "outputs": [
    {
     "name": "stdout",
     "output_type": "stream",
     "text": [
      "<class 'pandas.core.frame.DataFrame'>\n",
      "DatetimeIndex: 1220 entries, 2020-09-30 to 2025-08-08\n",
      "Data columns (total 5 columns):\n",
      " #   Column  Non-Null Count  Dtype  \n",
      "---  ------  --------------  -----  \n",
      " 0   open    1220 non-null   float64\n",
      " 1   high    1220 non-null   float64\n",
      " 2   low     1220 non-null   float64\n",
      " 3   close   1220 non-null   float64\n",
      " 4   volume  1220 non-null   int64  \n",
      "dtypes: float64(4), int64(1)\n",
      "memory usage: 57.2 KB\n"
     ]
    }
   ],
   "source": [
    "latest_file = load_latest_data('PLTR', data_type='raw')\n",
    "latest_file.info()"
   ]
  }
 ],
 "metadata": {
  "kernelspec": {
   "display_name": "Python 3",
   "language": "python",
   "name": "python3"
  },
  "language_info": {
   "codemirror_mode": {
    "name": "ipython",
    "version": 3
   },
   "file_extension": ".py",
   "mimetype": "text/x-python",
   "name": "python",
   "nbconvert_exporter": "python",
   "pygments_lexer": "ipython3",
   "version": "3.11.3"
  }
 },
 "nbformat": 4,
 "nbformat_minor": 5
}

{
 "cells": [
  {
   "cell_type": "markdown",
   "metadata": {},
   "source": [
    "## Importing Libraries"
   ]
  },
  {
   "cell_type": "code",
   "execution_count": 21,
   "metadata": {},
   "outputs": [],
   "source": [
    "import yfinance as yf\n",
    "import pandas_ta as ta"
   ]
  },
  {
   "cell_type": "markdown",
   "metadata": {},
   "source": [
    "## Importing Data"
   ]
  },
  {
   "cell_type": "code",
   "execution_count": 24,
   "metadata": {},
   "outputs": [],
   "source": [
    "def get_data(ticker, interval='1d', period='10y'):\n",
    "    data = yf.download(ticker, interval=interval, period=period)\n",
    "    data['Datetime'] = data.index\n",
    "    data.drop(columns=['Adj Close'], inplace=True)\n",
    "    data = data[['Datetime', 'Volume', 'Open', 'High', 'Low', 'Close']]\n",
    "    return data"
   ]
  },
  {
   "cell_type": "code",
   "execution_count": 26,
   "metadata": {},
   "outputs": [
    {
     "name": "stderr",
     "output_type": "stream",
     "text": [
      "[*********************100%***********************]  1 of 1 completed\n"
     ]
    },
    {
     "data": {
      "text/html": [
       "<div>\n",
       "<style scoped>\n",
       "    .dataframe tbody tr th:only-of-type {\n",
       "        vertical-align: middle;\n",
       "    }\n",
       "\n",
       "    .dataframe tbody tr th {\n",
       "        vertical-align: top;\n",
       "    }\n",
       "\n",
       "    .dataframe thead tr th {\n",
       "        text-align: left;\n",
       "    }\n",
       "\n",
       "    .dataframe thead tr:last-of-type th {\n",
       "        text-align: right;\n",
       "    }\n",
       "</style>\n",
       "<table border=\"1\" class=\"dataframe\">\n",
       "  <thead>\n",
       "    <tr>\n",
       "      <th>Price</th>\n",
       "      <th>Datetime</th>\n",
       "      <th>Volume</th>\n",
       "      <th>Open</th>\n",
       "      <th>High</th>\n",
       "      <th>Low</th>\n",
       "      <th>Close</th>\n",
       "    </tr>\n",
       "    <tr>\n",
       "      <th>Ticker</th>\n",
       "      <th></th>\n",
       "      <th>AAPL</th>\n",
       "      <th>AAPL</th>\n",
       "      <th>AAPL</th>\n",
       "      <th>AAPL</th>\n",
       "      <th>AAPL</th>\n",
       "    </tr>\n",
       "    <tr>\n",
       "      <th>Datetime</th>\n",
       "      <th></th>\n",
       "      <th></th>\n",
       "      <th></th>\n",
       "      <th></th>\n",
       "      <th></th>\n",
       "      <th></th>\n",
       "    </tr>\n",
       "  </thead>\n",
       "  <tbody>\n",
       "    <tr>\n",
       "      <th>2024-12-26 09:30:00</th>\n",
       "      <td>2024-12-26 09:30:00</td>\n",
       "      <td>4008896</td>\n",
       "      <td>258.355011</td>\n",
       "      <td>260.089996</td>\n",
       "      <td>258.100006</td>\n",
       "      <td>259.339996</td>\n",
       "    </tr>\n",
       "    <tr>\n",
       "      <th>2024-12-26 09:45:00</th>\n",
       "      <td>2024-12-26 09:45:00</td>\n",
       "      <td>1747594</td>\n",
       "      <td>259.339996</td>\n",
       "      <td>259.359985</td>\n",
       "      <td>258.019989</td>\n",
       "      <td>258.789886</td>\n",
       "    </tr>\n",
       "    <tr>\n",
       "      <th>2024-12-26 10:00:00</th>\n",
       "      <td>2024-12-26 10:00:00</td>\n",
       "      <td>1234526</td>\n",
       "      <td>258.760010</td>\n",
       "      <td>258.839996</td>\n",
       "      <td>257.950012</td>\n",
       "      <td>258.238586</td>\n",
       "    </tr>\n",
       "    <tr>\n",
       "      <th>2024-12-26 10:15:00</th>\n",
       "      <td>2024-12-26 10:15:00</td>\n",
       "      <td>1045564</td>\n",
       "      <td>258.255005</td>\n",
       "      <td>258.369995</td>\n",
       "      <td>257.630005</td>\n",
       "      <td>258.361206</td>\n",
       "    </tr>\n",
       "    <tr>\n",
       "      <th>2024-12-26 10:30:00</th>\n",
       "      <td>2024-12-26 10:30:00</td>\n",
       "      <td>842201</td>\n",
       "      <td>258.359985</td>\n",
       "      <td>258.785187</td>\n",
       "      <td>258.320007</td>\n",
       "      <td>258.510010</td>\n",
       "    </tr>\n",
       "  </tbody>\n",
       "</table>\n",
       "</div>"
      ],
      "text/plain": [
       "Price                          Datetime   Volume        Open        High  \\\n",
       "Ticker                                      AAPL        AAPL        AAPL   \n",
       "Datetime                                                                   \n",
       "2024-12-26 09:30:00 2024-12-26 09:30:00  4008896  258.355011  260.089996   \n",
       "2024-12-26 09:45:00 2024-12-26 09:45:00  1747594  259.339996  259.359985   \n",
       "2024-12-26 10:00:00 2024-12-26 10:00:00  1234526  258.760010  258.839996   \n",
       "2024-12-26 10:15:00 2024-12-26 10:15:00  1045564  258.255005  258.369995   \n",
       "2024-12-26 10:30:00 2024-12-26 10:30:00   842201  258.359985  258.785187   \n",
       "\n",
       "Price                       Low       Close  \n",
       "Ticker                     AAPL        AAPL  \n",
       "Datetime                                     \n",
       "2024-12-26 09:30:00  258.100006  259.339996  \n",
       "2024-12-26 09:45:00  258.019989  258.789886  \n",
       "2024-12-26 10:00:00  257.950012  258.238586  \n",
       "2024-12-26 10:15:00  257.630005  258.361206  \n",
       "2024-12-26 10:30:00  258.320007  258.510010  "
      ]
     },
     "execution_count": 26,
     "metadata": {},
     "output_type": "execute_result"
    }
   ],
   "source": [
    "get_data('AAPL', interval='15m', period='1mo').head()"
   ]
  },
  {
   "cell_type": "markdown",
   "metadata": {},
   "source": [
    "## Generating Technical Indicators"
   ]
  },
  {
   "cell_type": "code",
   "execution_count": null,
   "metadata": {},
   "outputs": [],
   "source": []
  },
  {
   "cell_type": "markdown",
   "metadata": {},
   "source": [
    "## Trading Strategy"
   ]
  },
  {
   "cell_type": "code",
   "execution_count": null,
   "metadata": {},
   "outputs": [],
   "source": []
  }
 ],
 "metadata": {
  "kernelspec": {
   "display_name": "Python 3",
   "language": "python",
   "name": "python3"
  },
  "language_info": {
   "codemirror_mode": {
    "name": "ipython",
    "version": 3
   },
   "file_extension": ".py",
   "mimetype": "text/x-python",
   "name": "python",
   "nbconvert_exporter": "python",
   "pygments_lexer": "ipython3",
   "version": "3.11.3"
  }
 },
 "nbformat": 4,
 "nbformat_minor": 2
}

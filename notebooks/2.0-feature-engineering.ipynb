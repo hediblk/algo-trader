{
 "cells": [
  {
   "cell_type": "markdown",
   "id": "34bc2711",
   "metadata": {},
   "source": [
    "# 2.0 Feature Engineering\n",
    "### work in progress...\n",
    "This notebook demonstrates the creation of features over stock price data. Correlation analysis will be performed to identify relationships between different features. The goal is to create a set of features that can be used for machine learning models to predict stock prices. PCA will be tesed to reduce the dimensionality of the feature set."
   ]
  },
  {
   "cell_type": "code",
   "execution_count": null,
   "id": "6e4943a7",
   "metadata": {},
   "outputs": [],
   "source": [
    "import sys\n",
    "import os\n",
    "import pandas as pd\n",
    "sys.path.append(os.path.abspath('..'))\n",
    "\n",
    "from src.dataset import load_latest_data\n",
    "from src.features import create_feature_sets"
   ]
  },
  {
   "cell_type": "markdown",
   "id": "ef6b285d",
   "metadata": {},
   "source": [
    "## 1. Load stock data"
   ]
  },
  {
   "cell_type": "code",
   "execution_count": null,
   "id": "d3555464",
   "metadata": {},
   "outputs": [],
   "source": [
    "data = load_latest_data(\"GOOGL\")"
   ]
  },
  {
   "cell_type": "code",
   "execution_count": null,
   "id": "2f0114af",
   "metadata": {},
   "outputs": [
    {
     "data": {
      "application/vnd.microsoft.datawrangler.viewer.v0+json": {
       "columns": [
        {
         "name": "Date",
         "rawType": "datetime64[ns]",
         "type": "datetime"
        },
        {
         "name": "open",
         "rawType": "float64",
         "type": "float"
        },
        {
         "name": "high",
         "rawType": "float64",
         "type": "float"
        },
        {
         "name": "low",
         "rawType": "float64",
         "type": "float"
        },
        {
         "name": "close",
         "rawType": "float64",
         "type": "float"
        },
        {
         "name": "volume",
         "rawType": "int64",
         "type": "integer"
        }
       ],
       "ref": "170557f0-4bb0-4f5a-ac13-31b37382219c",
       "rows": [
        [
         "2025-08-12 00:00:00",
         "201.3699951171875",
         "204.5",
         "200.58999633789065",
         "203.33999633789065",
         "30397900"
        ],
        [
         "2025-08-13 00:00:00",
         "204.1300048828125",
         "204.52999877929688",
         "197.5099945068359",
         "201.9600067138672",
         "28342900"
        ],
        [
         "2025-08-14 00:00:00",
         "201.5",
         "204.44000244140625",
         "201.22999572753903",
         "202.94000244140625",
         "25230400"
        ],
        [
         "2025-08-15 00:00:00",
         "203.8500061035156",
         "206.44000244140625",
         "201.27999877929688",
         "203.8999938964844",
         "34911300"
        ],
        [
         "2025-08-18 00:00:00",
         "204.16000366210935",
         "205.25",
         "202.4900054931641",
         "203.5",
         "18476169"
        ]
       ],
       "shape": {
        "columns": 5,
        "rows": 5
       }
      },
      "text/html": [
       "<div>\n",
       "<style scoped>\n",
       "    .dataframe tbody tr th:only-of-type {\n",
       "        vertical-align: middle;\n",
       "    }\n",
       "\n",
       "    .dataframe tbody tr th {\n",
       "        vertical-align: top;\n",
       "    }\n",
       "\n",
       "    .dataframe thead th {\n",
       "        text-align: right;\n",
       "    }\n",
       "</style>\n",
       "<table border=\"1\" class=\"dataframe\">\n",
       "  <thead>\n",
       "    <tr style=\"text-align: right;\">\n",
       "      <th></th>\n",
       "      <th>open</th>\n",
       "      <th>high</th>\n",
       "      <th>low</th>\n",
       "      <th>close</th>\n",
       "      <th>volume</th>\n",
       "    </tr>\n",
       "    <tr>\n",
       "      <th>Date</th>\n",
       "      <th></th>\n",
       "      <th></th>\n",
       "      <th></th>\n",
       "      <th></th>\n",
       "      <th></th>\n",
       "    </tr>\n",
       "  </thead>\n",
       "  <tbody>\n",
       "    <tr>\n",
       "      <th>2025-08-12</th>\n",
       "      <td>201.369995</td>\n",
       "      <td>204.500000</td>\n",
       "      <td>200.589996</td>\n",
       "      <td>203.339996</td>\n",
       "      <td>30397900</td>\n",
       "    </tr>\n",
       "    <tr>\n",
       "      <th>2025-08-13</th>\n",
       "      <td>204.130005</td>\n",
       "      <td>204.529999</td>\n",
       "      <td>197.509995</td>\n",
       "      <td>201.960007</td>\n",
       "      <td>28342900</td>\n",
       "    </tr>\n",
       "    <tr>\n",
       "      <th>2025-08-14</th>\n",
       "      <td>201.500000</td>\n",
       "      <td>204.440002</td>\n",
       "      <td>201.229996</td>\n",
       "      <td>202.940002</td>\n",
       "      <td>25230400</td>\n",
       "    </tr>\n",
       "    <tr>\n",
       "      <th>2025-08-15</th>\n",
       "      <td>203.850006</td>\n",
       "      <td>206.440002</td>\n",
       "      <td>201.279999</td>\n",
       "      <td>203.899994</td>\n",
       "      <td>34911300</td>\n",
       "    </tr>\n",
       "    <tr>\n",
       "      <th>2025-08-18</th>\n",
       "      <td>204.160004</td>\n",
       "      <td>205.250000</td>\n",
       "      <td>202.490005</td>\n",
       "      <td>203.500000</td>\n",
       "      <td>18476169</td>\n",
       "    </tr>\n",
       "  </tbody>\n",
       "</table>\n",
       "</div>"
      ],
      "text/plain": [
       "                  open        high         low       close    volume\n",
       "Date                                                                \n",
       "2025-08-12  201.369995  204.500000  200.589996  203.339996  30397900\n",
       "2025-08-13  204.130005  204.529999  197.509995  201.960007  28342900\n",
       "2025-08-14  201.500000  204.440002  201.229996  202.940002  25230400\n",
       "2025-08-15  203.850006  206.440002  201.279999  203.899994  34911300\n",
       "2025-08-18  204.160004  205.250000  202.490005  203.500000  18476169"
      ]
     },
     "execution_count": 5,
     "metadata": {},
     "output_type": "execute_result"
    }
   ],
   "source": [
    "data.tail()"
   ]
  },
  {
   "cell_type": "code",
   "execution_count": null,
   "id": "a2c12092",
   "metadata": {},
   "outputs": [],
   "source": []
  }
 ],
 "metadata": {
  "kernelspec": {
   "display_name": "Python 3",
   "language": "python",
   "name": "python3"
  },
  "language_info": {
   "codemirror_mode": {
    "name": "ipython",
    "version": 3
   },
   "file_extension": ".py",
   "mimetype": "text/x-python",
   "name": "python",
   "nbconvert_exporter": "python",
   "pygments_lexer": "ipython3",
   "version": "3.11.3"
  }
 },
 "nbformat": 4,
 "nbformat_minor": 5
}

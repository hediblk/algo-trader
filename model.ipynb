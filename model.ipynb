{
 "cells": [
  {
   "cell_type": "markdown",
   "metadata": {},
   "source": [
    "## Importing Libraries"
   ]
  },
  {
   "cell_type": "code",
   "execution_count": 48,
   "metadata": {},
   "outputs": [],
   "source": [
    "import numpy as np\n",
    "import pandas as pd\n",
    "import matplotlib.pyplot as plt\n",
    "import yfinance as yf\n",
    "import pandas_ta as ta\n",
    "import mplfinance as mpf"
   ]
  },
  {
   "cell_type": "markdown",
   "metadata": {},
   "source": [
    "## Importing Data"
   ]
  },
  {
   "cell_type": "code",
   "execution_count": 49,
   "metadata": {},
   "outputs": [
    {
     "name": "stderr",
     "output_type": "stream",
     "text": [
      "[*********************100%***********************]  1 of 1 completed\n"
     ]
    }
   ],
   "source": [
    "def get_data(ticker, interval='1d', period='10y'):\n",
    "    data = yf.download(ticker, interval=interval, period=period, rounding=True, multi_level_index=False)\n",
    "    data.drop(columns=['Close'], inplace=True)\n",
    "    data.rename(columns={'Adj Close': 'Close'}, inplace=True)\n",
    "    return data\n",
    "\n",
    "\n",
    "df = get_data('BTC-USD', interval='1d', period='5y')"
   ]
  },
  {
   "cell_type": "code",
   "execution_count": 50,
   "metadata": {},
   "outputs": [
    {
     "data": {
      "application/vnd.microsoft.datawrangler.viewer.v0+json": {
       "columns": [
        {
         "name": "Date",
         "rawType": "datetime64[ns]",
         "type": "datetime"
        },
        {
         "name": "Close",
         "rawType": "float64",
         "type": "float"
        },
        {
         "name": "High",
         "rawType": "float64",
         "type": "float"
        },
        {
         "name": "Low",
         "rawType": "float64",
         "type": "float"
        },
        {
         "name": "Open",
         "rawType": "float64",
         "type": "float"
        },
        {
         "name": "Volume",
         "rawType": "int64",
         "type": "integer"
        }
       ],
       "conversionMethod": "pd.DataFrame",
       "ref": "e8365ab2-701c-406f-8e4d-107c74f4ffe6",
       "rows": [
        [
         "2020-02-11 00:00:00",
         "10208.24",
         "10210.05",
         "9729.33",
         "9855.89",
         "37648059389"
        ],
        [
         "2020-02-12 00:00:00",
         "10326.05",
         "10393.61",
         "10202.39",
         "10202.39",
         "43444303830"
        ],
        [
         "2020-02-13 00:00:00",
         "10214.38",
         "10457.63",
         "10116.16",
         "10323.96",
         "49356071373"
        ],
        [
         "2020-02-14 00:00:00",
         "10312.12",
         "10322.0",
         "10125.53",
         "10211.55",
         "43338264162"
        ],
        [
         "2020-02-15 00:00:00",
         "9889.42",
         "10341.56",
         "9874.43",
         "10313.86",
         "43865054831"
        ]
       ],
       "shape": {
        "columns": 5,
        "rows": 5
       }
      },
      "text/html": [
       "<div>\n",
       "<style scoped>\n",
       "    .dataframe tbody tr th:only-of-type {\n",
       "        vertical-align: middle;\n",
       "    }\n",
       "\n",
       "    .dataframe tbody tr th {\n",
       "        vertical-align: top;\n",
       "    }\n",
       "\n",
       "    .dataframe thead th {\n",
       "        text-align: right;\n",
       "    }\n",
       "</style>\n",
       "<table border=\"1\" class=\"dataframe\">\n",
       "  <thead>\n",
       "    <tr style=\"text-align: right;\">\n",
       "      <th></th>\n",
       "      <th>Close</th>\n",
       "      <th>High</th>\n",
       "      <th>Low</th>\n",
       "      <th>Open</th>\n",
       "      <th>Volume</th>\n",
       "    </tr>\n",
       "    <tr>\n",
       "      <th>Date</th>\n",
       "      <th></th>\n",
       "      <th></th>\n",
       "      <th></th>\n",
       "      <th></th>\n",
       "      <th></th>\n",
       "    </tr>\n",
       "  </thead>\n",
       "  <tbody>\n",
       "    <tr>\n",
       "      <th>2020-02-11</th>\n",
       "      <td>10208.24</td>\n",
       "      <td>10210.05</td>\n",
       "      <td>9729.33</td>\n",
       "      <td>9855.89</td>\n",
       "      <td>37648059389</td>\n",
       "    </tr>\n",
       "    <tr>\n",
       "      <th>2020-02-12</th>\n",
       "      <td>10326.05</td>\n",
       "      <td>10393.61</td>\n",
       "      <td>10202.39</td>\n",
       "      <td>10202.39</td>\n",
       "      <td>43444303830</td>\n",
       "    </tr>\n",
       "    <tr>\n",
       "      <th>2020-02-13</th>\n",
       "      <td>10214.38</td>\n",
       "      <td>10457.63</td>\n",
       "      <td>10116.16</td>\n",
       "      <td>10323.96</td>\n",
       "      <td>49356071373</td>\n",
       "    </tr>\n",
       "    <tr>\n",
       "      <th>2020-02-14</th>\n",
       "      <td>10312.12</td>\n",
       "      <td>10322.00</td>\n",
       "      <td>10125.53</td>\n",
       "      <td>10211.55</td>\n",
       "      <td>43338264162</td>\n",
       "    </tr>\n",
       "    <tr>\n",
       "      <th>2020-02-15</th>\n",
       "      <td>9889.42</td>\n",
       "      <td>10341.56</td>\n",
       "      <td>9874.43</td>\n",
       "      <td>10313.86</td>\n",
       "      <td>43865054831</td>\n",
       "    </tr>\n",
       "  </tbody>\n",
       "</table>\n",
       "</div>"
      ],
      "text/plain": [
       "               Close      High       Low      Open       Volume\n",
       "Date                                                           \n",
       "2020-02-11  10208.24  10210.05   9729.33   9855.89  37648059389\n",
       "2020-02-12  10326.05  10393.61  10202.39  10202.39  43444303830\n",
       "2020-02-13  10214.38  10457.63  10116.16  10323.96  49356071373\n",
       "2020-02-14  10312.12  10322.00  10125.53  10211.55  43338264162\n",
       "2020-02-15   9889.42  10341.56   9874.43  10313.86  43865054831"
      ]
     },
     "execution_count": 50,
     "metadata": {},
     "output_type": "execute_result"
    }
   ],
   "source": [
    "df.head()"
   ]
  },
  {
   "cell_type": "markdown",
   "metadata": {},
   "source": [
    "## Generating Technical Indicators"
   ]
  },
  {
   "cell_type": "code",
   "execution_count": null,
   "metadata": {},
   "outputs": [
    {
     "data": {
      "application/vnd.microsoft.datawrangler.viewer.v0+json": {
       "columns": [
        {
         "name": "Date",
         "rawType": "datetime64[ns]",
         "type": "datetime"
        },
        {
         "name": "Close",
         "rawType": "float64",
         "type": "float"
        },
        {
         "name": "High",
         "rawType": "float64",
         "type": "float"
        },
        {
         "name": "Low",
         "rawType": "float64",
         "type": "float"
        },
        {
         "name": "Open",
         "rawType": "float64",
         "type": "float"
        },
        {
         "name": "Volume",
         "rawType": "float64",
         "type": "float"
        },
        {
         "name": "RSI_14",
         "rawType": "float64",
         "type": "float"
        },
        {
         "name": "MACD_12_26_9",
         "rawType": "float64",
         "type": "float"
        },
        {
         "name": "MACDh_12_26_9",
         "rawType": "float64",
         "type": "float"
        },
        {
         "name": "MACDs_12_26_9",
         "rawType": "float64",
         "type": "float"
        },
        {
         "name": "EMA_20",
         "rawType": "float64",
         "type": "float"
        },
        {
         "name": "EMA_50",
         "rawType": "float64",
         "type": "float"
        },
        {
         "name": "EMA_200",
         "rawType": "float64",
         "type": "float"
        },
        {
         "name": "CUMPCTRET_1",
         "rawType": "float64",
         "type": "float"
        },
        {
         "name": "good_entry",
         "rawType": "float64",
         "type": "float"
        }
       ],
       "conversionMethod": "pd.DataFrame",
       "ref": "609913db-42ab-42de-a75c-98797165062d",
       "rows": [
        [
         "1970-01-01 00:00:00.000001804",
         null,
         null,
         null,
         null,
         null,
         "47.16705177139543",
         "-860.3246936512005",
         "0.0",
         "-860.3246936512005",
         "99177.75272563228",
         "98414.65435136027",
         "84033.97842843266",
         null,
         "1.0"
        ],
        [
         "1970-01-01 00:00:00.000001805",
         null,
         null,
         null,
         null,
         null,
         "47.16705177139543",
         "-860.3246936512005",
         "0.0",
         "-860.3246936512005",
         "99177.75272563228",
         "98414.65435136027",
         "84033.97842843266",
         null,
         "1.0"
        ],
        [
         "1970-01-01 00:00:00.000001812",
         null,
         null,
         null,
         null,
         null,
         "47.16705177139543",
         "-860.3246936512005",
         "0.0",
         "-860.3246936512005",
         "99177.75272563228",
         "98414.65435136027",
         "84033.97842843266",
         null,
         "1.0"
        ],
        [
         "1970-01-01 00:00:00.000001813",
         null,
         null,
         null,
         null,
         null,
         "47.16705177139543",
         "-860.3246936512005",
         "0.0",
         "-860.3246936512005",
         "99177.75272563228",
         "98414.65435136027",
         "84033.97842843266",
         null,
         "1.0"
        ],
        [
         "1970-01-01 00:00:00.000001818",
         null,
         null,
         null,
         null,
         null,
         "47.16705177139543",
         "-860.3246936512005",
         "0.0",
         "-860.3246936512005",
         "99177.75272563228",
         "98414.65435136027",
         "84033.97842843266",
         null,
         "1.0"
        ]
       ],
       "shape": {
        "columns": 14,
        "rows": 5
       }
      },
      "text/html": [
       "<div>\n",
       "<style scoped>\n",
       "    .dataframe tbody tr th:only-of-type {\n",
       "        vertical-align: middle;\n",
       "    }\n",
       "\n",
       "    .dataframe tbody tr th {\n",
       "        vertical-align: top;\n",
       "    }\n",
       "\n",
       "    .dataframe thead th {\n",
       "        text-align: right;\n",
       "    }\n",
       "</style>\n",
       "<table border=\"1\" class=\"dataframe\">\n",
       "  <thead>\n",
       "    <tr style=\"text-align: right;\">\n",
       "      <th></th>\n",
       "      <th>Close</th>\n",
       "      <th>High</th>\n",
       "      <th>Low</th>\n",
       "      <th>Open</th>\n",
       "      <th>Volume</th>\n",
       "      <th>RSI_14</th>\n",
       "      <th>MACD_12_26_9</th>\n",
       "      <th>MACDh_12_26_9</th>\n",
       "      <th>MACDs_12_26_9</th>\n",
       "      <th>EMA_20</th>\n",
       "      <th>EMA_50</th>\n",
       "      <th>EMA_200</th>\n",
       "      <th>CUMPCTRET_1</th>\n",
       "      <th>good_entry</th>\n",
       "    </tr>\n",
       "    <tr>\n",
       "      <th>Date</th>\n",
       "      <th></th>\n",
       "      <th></th>\n",
       "      <th></th>\n",
       "      <th></th>\n",
       "      <th></th>\n",
       "      <th></th>\n",
       "      <th></th>\n",
       "      <th></th>\n",
       "      <th></th>\n",
       "      <th></th>\n",
       "      <th></th>\n",
       "      <th></th>\n",
       "      <th></th>\n",
       "      <th></th>\n",
       "    </tr>\n",
       "  </thead>\n",
       "  <tbody>\n",
       "    <tr>\n",
       "      <th>1970-01-01 00:00:00.000001804</th>\n",
       "      <td>NaN</td>\n",
       "      <td>NaN</td>\n",
       "      <td>NaN</td>\n",
       "      <td>NaN</td>\n",
       "      <td>NaN</td>\n",
       "      <td>47.167052</td>\n",
       "      <td>-860.324694</td>\n",
       "      <td>0.0</td>\n",
       "      <td>-860.324694</td>\n",
       "      <td>99177.752726</td>\n",
       "      <td>98414.654351</td>\n",
       "      <td>84033.978428</td>\n",
       "      <td>NaN</td>\n",
       "      <td>1.0</td>\n",
       "    </tr>\n",
       "    <tr>\n",
       "      <th>1970-01-01 00:00:00.000001805</th>\n",
       "      <td>NaN</td>\n",
       "      <td>NaN</td>\n",
       "      <td>NaN</td>\n",
       "      <td>NaN</td>\n",
       "      <td>NaN</td>\n",
       "      <td>47.167052</td>\n",
       "      <td>-860.324694</td>\n",
       "      <td>0.0</td>\n",
       "      <td>-860.324694</td>\n",
       "      <td>99177.752726</td>\n",
       "      <td>98414.654351</td>\n",
       "      <td>84033.978428</td>\n",
       "      <td>NaN</td>\n",
       "      <td>1.0</td>\n",
       "    </tr>\n",
       "    <tr>\n",
       "      <th>1970-01-01 00:00:00.000001812</th>\n",
       "      <td>NaN</td>\n",
       "      <td>NaN</td>\n",
       "      <td>NaN</td>\n",
       "      <td>NaN</td>\n",
       "      <td>NaN</td>\n",
       "      <td>47.167052</td>\n",
       "      <td>-860.324694</td>\n",
       "      <td>0.0</td>\n",
       "      <td>-860.324694</td>\n",
       "      <td>99177.752726</td>\n",
       "      <td>98414.654351</td>\n",
       "      <td>84033.978428</td>\n",
       "      <td>NaN</td>\n",
       "      <td>1.0</td>\n",
       "    </tr>\n",
       "    <tr>\n",
       "      <th>1970-01-01 00:00:00.000001813</th>\n",
       "      <td>NaN</td>\n",
       "      <td>NaN</td>\n",
       "      <td>NaN</td>\n",
       "      <td>NaN</td>\n",
       "      <td>NaN</td>\n",
       "      <td>47.167052</td>\n",
       "      <td>-860.324694</td>\n",
       "      <td>0.0</td>\n",
       "      <td>-860.324694</td>\n",
       "      <td>99177.752726</td>\n",
       "      <td>98414.654351</td>\n",
       "      <td>84033.978428</td>\n",
       "      <td>NaN</td>\n",
       "      <td>1.0</td>\n",
       "    </tr>\n",
       "    <tr>\n",
       "      <th>1970-01-01 00:00:00.000001818</th>\n",
       "      <td>NaN</td>\n",
       "      <td>NaN</td>\n",
       "      <td>NaN</td>\n",
       "      <td>NaN</td>\n",
       "      <td>NaN</td>\n",
       "      <td>47.167052</td>\n",
       "      <td>-860.324694</td>\n",
       "      <td>0.0</td>\n",
       "      <td>-860.324694</td>\n",
       "      <td>99177.752726</td>\n",
       "      <td>98414.654351</td>\n",
       "      <td>84033.978428</td>\n",
       "      <td>NaN</td>\n",
       "      <td>1.0</td>\n",
       "    </tr>\n",
       "  </tbody>\n",
       "</table>\n",
       "</div>"
      ],
      "text/plain": [
       "                               Close  High  Low  Open  Volume     RSI_14  \\\n",
       "Date                                                                       \n",
       "1970-01-01 00:00:00.000001804    NaN   NaN  NaN   NaN     NaN  47.167052   \n",
       "1970-01-01 00:00:00.000001805    NaN   NaN  NaN   NaN     NaN  47.167052   \n",
       "1970-01-01 00:00:00.000001812    NaN   NaN  NaN   NaN     NaN  47.167052   \n",
       "1970-01-01 00:00:00.000001813    NaN   NaN  NaN   NaN     NaN  47.167052   \n",
       "1970-01-01 00:00:00.000001818    NaN   NaN  NaN   NaN     NaN  47.167052   \n",
       "\n",
       "                               MACD_12_26_9  MACDh_12_26_9  MACDs_12_26_9  \\\n",
       "Date                                                                        \n",
       "1970-01-01 00:00:00.000001804   -860.324694            0.0    -860.324694   \n",
       "1970-01-01 00:00:00.000001805   -860.324694            0.0    -860.324694   \n",
       "1970-01-01 00:00:00.000001812   -860.324694            0.0    -860.324694   \n",
       "1970-01-01 00:00:00.000001813   -860.324694            0.0    -860.324694   \n",
       "1970-01-01 00:00:00.000001818   -860.324694            0.0    -860.324694   \n",
       "\n",
       "                                     EMA_20        EMA_50       EMA_200  \\\n",
       "Date                                                                      \n",
       "1970-01-01 00:00:00.000001804  99177.752726  98414.654351  84033.978428   \n",
       "1970-01-01 00:00:00.000001805  99177.752726  98414.654351  84033.978428   \n",
       "1970-01-01 00:00:00.000001812  99177.752726  98414.654351  84033.978428   \n",
       "1970-01-01 00:00:00.000001813  99177.752726  98414.654351  84033.978428   \n",
       "1970-01-01 00:00:00.000001818  99177.752726  98414.654351  84033.978428   \n",
       "\n",
       "                               CUMPCTRET_1  good_entry  \n",
       "Date                                                    \n",
       "1970-01-01 00:00:00.000001804          NaN         1.0  \n",
       "1970-01-01 00:00:00.000001805          NaN         1.0  \n",
       "1970-01-01 00:00:00.000001812          NaN         1.0  \n",
       "1970-01-01 00:00:00.000001813          NaN         1.0  \n",
       "1970-01-01 00:00:00.000001818          NaN         1.0  "
      ]
     },
     "execution_count": 55,
     "metadata": {},
     "output_type": "execute_result"
    }
   ],
   "source": [
    "df.ta.rsi(length=14, append=True)\n",
    "df.ta.macd(append=True)\n",
    "df.ta.ema(length=20, append=True)\n",
    "df.ta.ema(length=50, append=True)\n",
    "df.ta.ema(length=200, append=True)\n",
    "df.ta.percent_return(cumulative=True, append=True)\n",
    "\n",
    "#df.tail()"
   ]
  },
  {
   "cell_type": "markdown",
   "metadata": {},
   "source": [
    "## Good/Bad entry points"
   ]
  },
  {
   "cell_type": "code",
   "execution_count": 52,
   "metadata": {},
   "outputs": [],
   "source": [
    "df['good_entry'] = 0\n",
    "\n",
    "lookahead = 5\n",
    "threshold = 1.02\n",
    "\n",
    "for i in range(len(df) - lookahead):\n",
    "    future_max = df['Close'].iloc[i+1:i+1+lookahead].max()\n",
    "    if future_max >= df['Close'].iloc[i] * threshold:\n",
    "        df.at[i, 'good_entry'] = 1\n",
    "\n",
    "\n",
    "#df.to_csv('btc.csv')"
   ]
  },
  {
   "cell_type": "code",
   "execution_count": 56,
   "metadata": {},
   "outputs": [
    {
     "name": "stdout",
     "output_type": "stream",
     "text": [
      "Pandas TA - Technical Analysis Indicators - v0.3.14b0\n",
      "Total Indicators & Utilities: 205\n",
      "Abbreviations:\n",
      "    aberration, above, above_value, accbands, ad, adosc, adx, alma, amat, ao, aobv, apo, aroon, atr, bbands, below, below_value, bias, bop, brar, cci, cdl_pattern, cdl_z, cfo, cg, chop, cksp, cmf, cmo, coppock, cross, cross_value, cti, decay, decreasing, dema, dm, donchian, dpo, ebsw, efi, ema, entropy, eom, er, eri, fisher, fwma, ha, hilo, hl2, hlc3, hma, hwc, hwma, ichimoku, increasing, inertia, jma, kama, kc, kdj, kst, kurtosis, kvo, linreg, log_return, long_run, macd, mad, massi, mcgd, median, mfi, midpoint, midprice, mom, natr, nvi, obv, ohlc4, pdist, percent_return, pgo, ppo, psar, psl, pvi, pvo, pvol, pvr, pvt, pwma, qqe, qstick, quantile, rma, roc, rsi, rsx, rvgi, rvi, short_run, sinwma, skew, slope, sma, smi, squeeze, squeeze_pro, ssf, stc, stdev, stoch, stochrsi, supertrend, swma, t3, td_seq, tema, thermo, tos_stdevall, trima, trix, true_range, tsi, tsignals, ttm_trend, ui, uo, variance, vhf, vidya, vortex, vp, vwap, vwma, wcp, willr, wma, xsignals, zlma, zscore\n",
      "\n",
      "Candle Patterns:\n",
      "    2crows, 3blackcrows, 3inside, 3linestrike, 3outside, 3starsinsouth, 3whitesoldiers, abandonedbaby, advanceblock, belthold, breakaway, closingmarubozu, concealbabyswall, counterattack, darkcloudcover, doji, dojistar, dragonflydoji, engulfing, eveningdojistar, eveningstar, gapsidesidewhite, gravestonedoji, hammer, hangingman, harami, haramicross, highwave, hikkake, hikkakemod, homingpigeon, identical3crows, inneck, inside, invertedhammer, kicking, kickingbylength, ladderbottom, longleggeddoji, longline, marubozu, matchinglow, mathold, morningdojistar, morningstar, onneck, piercing, rickshawman, risefall3methods, separatinglines, shootingstar, shortline, spinningtop, stalledpattern, sticksandwich, takuri, tasukigap, thrusting, tristar, unique3river, upsidegap2crows, xsidegap3methods\n"
     ]
    }
   ],
   "source": [
    "#help(df.ta)\n",
    "\n",
    "# List of all indicators\n",
    "df.ta.indicators()"
   ]
  },
  {
   "cell_type": "markdown",
   "metadata": {},
   "source": [
    "## Price Chart"
   ]
  },
  {
   "cell_type": "code",
   "execution_count": 54,
   "metadata": {},
   "outputs": [
    {
     "data": {
      "image/png": "[encoded data removed]",
      "text/plain": [
       "<Figure size 800x575 with 4 Axes>"
      ]
     },
     "metadata": {},
     "output_type": "display_data"
    }
   ],
   "source": [
    "def price_chart(df, type='line', volume=True, style='yahoo', title='BTC-USD Price chart'):\n",
    "    #df.columns = df.columns.droplevel(1)\n",
    "    df.index = pd.to_datetime(df.index)\n",
    "    mpf.plot(df, type=type, volume=volume, style=style, title=title)\n",
    "\n",
    "\n",
    "price_chart(df)"
   ]
  },
  {
   "cell_type": "markdown",
   "metadata": {},
   "source": [
    "## ML Model"
   ]
  },
  {
   "cell_type": "code",
   "execution_count": null,
   "metadata": {},
   "outputs": [],
   "source": [
    "# scale the indicators\n",
    "# train the model on older data entry points\n",
    "# predict the future entry points on the newer data"
   ]
  }
 ],
 "metadata": {
  "kernelspec": {
   "display_name": "Python 3",
   "language": "python",
   "name": "python3"
  },
  "language_info": {
   "codemirror_mode": {
    "name": "ipython",
    "version": 3
   },
   "file_extension": ".py",
   "mimetype": "text/x-python",
   "name": "python",
   "nbconvert_exporter": "python",
   "pygments_lexer": "ipython3",
   "version": "3.11.3"
  }
 },
 "nbformat": 4,
 "nbformat_minor": 2
}
